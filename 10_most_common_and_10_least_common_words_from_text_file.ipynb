{
 "cells": [
  {
   "cell_type": "code",
   "execution_count": 1,
   "metadata": {},
   "outputs": [],
   "source": [
    "import re"
   ]
  },
  {
   "cell_type": "code",
   "execution_count": 2,
   "metadata": {},
   "outputs": [],
   "source": [
    "# Function to count the occurance of each word in a paragraph\n",
    "def count_words(text):\n",
    "    text = text.lower() # converting whole paragraph into lower case\n",
    "    pattern = re.compile(r'[\\W]+') # remove special characters\n",
    "    text = pattern.sub(' ', text)\n",
    "    text = text.split() # convert the paragraph into list by splitting it from space\n",
    "    d = {}\n",
    "    # Count the occurance of each word and store it in a dict\n",
    "    for word in text:\n",
    "        if word not in d:\n",
    "            d[word] = 1\n",
    "        else:\n",
    "            d[word] += 1\n",
    "            \n",
    "    return d\n",
    "    "
   ]
  },
  {
   "cell_type": "code",
   "execution_count": 3,
   "metadata": {},
   "outputs": [
    {
     "name": "stdout",
     "output_type": "stream",
     "text": [
      "10 most common words are \n",
      "Word\t\tcount\n",
      "a\t\t9\n",
      "he\t\t6\n",
      "the\t\t6\n",
      "and\t\t5\n",
      "as\t\t4\n",
      "was\t\t4\n",
      "with\t\t3\n",
      "i\t\t2\n",
      "of\t\t2\n",
      "his\t\t2\n",
      "\n",
      "10 least common words are \n",
      "Word\t\tcount\n",
      "tables\t\t1\n",
      "merry\t\t1\n",
      "word\t\t1\n",
      "or\t\t1\n",
      "slap\t\t1\n",
      "on\t\t1\n",
      "for\t\t1\n",
      "more\t\t1\n",
      "favoured\t\t1\n",
      "guests\t\t1\n"
     ]
    }
   ],
   "source": [
    "with open('input.txt','r') as file:\n",
    "    text = file.read()\n",
    "    count = count_words(text); \n",
    "    # sort the dict into descending order\n",
    "    sort_count = sorted(count.items(),key = lambda pair: pair[1], reverse=True)\n",
    "    # Printing 10 most common words\n",
    "    print(\"10 most common words are \\nWord\\t\\tcount\")\n",
    "    for word, count in sort_count[:10]:\n",
    "        print(f'{word}\\t\\t{count}')\n",
    "    \n",
    "    # Printing 10 least common words\n",
    "    print(\"\\n10 least common words are \\nWord\\t\\tcount\")\n",
    "    for word, count in sort_count[-10:]:\n",
    "        print(f'{word}\\t\\t{count}')"
   ]
  },
  {
   "cell_type": "code",
   "execution_count": null,
   "metadata": {},
   "outputs": [],
   "source": []
  }
 ],
 "metadata": {
  "kernelspec": {
   "display_name": "Python 3",
   "language": "python",
   "name": "python3"
  },
  "language_info": {
   "codemirror_mode": {
    "name": "ipython",
    "version": 3
   },
   "file_extension": ".py",
   "mimetype": "text/x-python",
   "name": "python",
   "nbconvert_exporter": "python",
   "pygments_lexer": "ipython3",
   "version": "3.8.2"
  }
 },
 "nbformat": 4,
 "nbformat_minor": 2
}
